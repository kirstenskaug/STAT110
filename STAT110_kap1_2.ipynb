{
 "cells": [
  {
   "cell_type": "markdown",
   "metadata": {},
   "source": [
    "# STAT110 kapittel 1.2\n",
    "### Eksempel 1.9 fra boken s. 17 - Histogram med ulik bredde \n",
    "Under Super Bowl i 2011 da Green Bay spillte mot Pittsburgh var det 106 aktive spillere. Here er vektene (målinger) deres i stigende rekkefølge: \n",
    "\n",
    "180 180 184 185 186 190 190 191 191 191 194 195 195 196 198 199 200 200 200\n",
    "200 200 202 203 205 205 207 207 207 208 208 208 209 209 213 215 216 216 217\n",
    "218 219 225 225 225 229 230 230 231 233 234 235 236 238 239 241 242 243 245\n",
    "245 247 248 250 250 250 252 252 254 255 255 255 256 260 262 263 265 270 280\n",
    "285 285 290 298 300 300 304 305 305 305 305 306 308 308 314 315 316 318 318\n",
    "318 319 320 324 325 325 337 338 340 344 365\n",
    "\n",
    "Her er målingene i kategoriene:\n",
    "\n",
    "|intervall         |  frekvens        | relativ frekvens | tetthet          |\n",
    "| ---------------- | ---------------- | ---------------- | ---------------- |\n",
    "| 180-190          |    5             |  0.047            | 0.0047           | \n",
    "| 190  -200        |    11            |  0.104           | 0.0104           | \n",
    "| 200-210          |    17            |  0.160           | 0.0160           | \n",
    "| 210-220          |    7             |  0.066           | 0.0066           | \n",
    "| 220-240          |    13            |  0.123           | 0.0061           | \n",
    "| 240-260          |    17            |  0.160           | 0.0080           | \n",
    "| 260-300          |    10            |  0.094           | 0.0024           | \n",
    "| 300 -310         |    10            |  0.094          | 0.0094           | \n",
    "| 310 -320         |    7             |  0.066          | 0.0066           | \n",
    "| 320-330          |    4             |  0.038          | 0.0038           | \n",
    "| 330-370          |    5             |  0.047          | 0.0012           | \n",
    "\n",
    "\n",
    "Histogrammet er laget med python ved hjelp av disse verdiene.\n"
   ]
  },
  {
   "cell_type": "code",
   "execution_count": 8,
   "metadata": {},
   "outputs": [
    {
     "data": {
      "image/png": "[encoded data removed]",
      "text/plain": [
       "<Figure size 432x288 with 1 Axes>"
      ]
     },
     "metadata": {},
     "output_type": "display_data"
    }
   ],
   "source": [
    "import matplotlib.pyplot as plt\n",
    "\n",
    "bins_list = [180,190,200,210,220,240,260,300,310,320,330,370] # bredde på stolpene\n",
    "\n",
    "# data: vektene (lb) på de 106 spillerene\n",
    "data = [180,180,184,185,186,190,190,191,191,191,194,195,195,196,198,199, 200, 200, 200,\n",
    "200,200,202 ,203, 205, 205, 207, 207, 207, 208, 208, 208, 209, 209, 213, 215, 216, 216, 217,\n",
    "218 ,219, 225, 225, 225, 229 ,230, 230, 231, 233, 234, 235, 236, 238, 239, 241, 242, 243, 245,\n",
    "245 ,247, 248, 250, 250, 250 ,252, 252, 254, 255, 255, 255, 256, 260, 262, 263, 265, 270, 280,\n",
    "285 ,285, 290, 298, 300, 300 ,304, 305, 305, 305, 305, 306, 308, 308, 314, 315, 316, 318, 318,\n",
    "318 ,319, 320, 324, 325, 325 ,337, 338, 340, 344, 365] \n",
    "\n",
    "ax= plt.hist(data,bins=bins_list, histtype='stepfilled',density=True)\n",
    "\n",
    "plt.xlabel('Vekt')\n",
    "plt.ylabel('Tetthet')\n",
    "plt.grid(True)\n",
    "\n",
    "plt.show()"
   ]
  },
  {
   "cell_type": "code",
   "execution_count": null,
   "metadata": {},
   "outputs": [],
   "source": [
    "Her er det arealet som er viktig. Totalt areal i histogrammet er lik 1. Andel i intervallet $[260,320]$ er gitt ved arealet. "
   ]
  },
  {
   "cell_type": "code",
   "execution_count": null,
   "metadata": {},
   "outputs": [],
   "source": []
  }
 ],
 "metadata": {
  "kernelspec": {
   "display_name": "Python 3",
   "language": "python",
   "name": "python3"
  },
  "language_info": {
   "codemirror_mode": {
    "name": "ipython",
    "version": 3
   },
   "file_extension": ".py",
   "mimetype": "text/x-python",
   "name": "python",
   "nbconvert_exporter": "python",
   "pygments_lexer": "ipython3",
   "version": "3.6.5"
  }
 },
 "nbformat": 4,
 "nbformat_minor": 4
}
