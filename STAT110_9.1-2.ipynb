{
 "cells": [
  {
   "cell_type": "markdown",
   "metadata": {},
   "source": [
    "# STAT110 kapittel 9.1-2\n",
    "Saltholdighet blir målt på en rekke målepunkter i Norskehavet og Barentshavet. Kystvann har en lavere saltholdighet enn atlantisk vann, som blir fraktet inn av Golfstrømmen. Ved en saltholdighet på over 35 promille regnes vannet som atlantisk.\n",
    "    I et visst geografisk område et stykke fra kysten ble følgende målinger av saltholdighet i overflaten gjort \n",
    "   $$x_i:35.3, 35.8, 35.6, 36.3, 36.1, 34.9, 37.1, 36.2, 34.7, 35.5, 35.8, 35.3$$\n",
    "\n",
    "b) Før målingene ble foretatt mente man at forventet saltholdighet i dette området er større enn 35. Test nullhypotesen $\\mu = 35$ mot $H_1:\\mu > 35$ ved et signifikansnivå på 0.05. \n",
    "\n",
    "### Løsning: \n",
    "Bruker formelen:\n",
    "$t=\\frac{\\bar{x}-\\mu_0}{s_x/\\sqrt{n}}$ for t-observator.\n"
   ]
  },
  {
   "cell_type": "code",
   "execution_count": 50,
   "metadata": {},
   "outputs": [
    {
     "name": "stdout",
     "output_type": "stream",
     "text": [
      "Kritisk verdi: 1.796\n",
      "Observert t: 3.77531167933242\n",
      "Observert t (innebygget) : 3.77531167933242\n",
      "Forkast H0\n"
     ]
    }
   ],
   "source": [
    "import numpy as np\n",
    "from scipy import stats\n",
    "\n",
    "x=[35.3, 35.8, 35.6, 36.3, 36.1, 34.9, 37.1, 36.2, 34.7, 35.5, 35.8, 35.3]\n",
    "n=len(x)\n",
    "x_mean= np.mean(x)\n",
    "mu_0= 35\n",
    "Sx= stats.tstd(x)   #standardavvik\n",
    "\n",
    "t_11_05=np.round(stats.t.ppf(0.95, 11),3)  #i stedet for tabell A5\n",
    "print(\"Kritisk verdi:\", t_tab)\n",
    "\n",
    "#t-observator\n",
    "t= (x_mean-mu_0)/(Sx/(np.sqrt(n)))    \n",
    "print(\"Observert t:\",tset)\n",
    "\n",
    "#python sin innebygde t-observator\n",
    "tset,pval= stats.ttest_1samp(x,35)\n",
    "print(\"Observert t (innebygget) :\", tset)\n",
    "\n",
    "#Utfører ensidig hypotesetest\n",
    "if t> t_11_05:\n",
    "    print(\"Forkast H0\")\n",
    "else:\n",
    "    print(\"Behold H0\")\n"
   ]
  },
  {
   "cell_type": "markdown",
   "metadata": {},
   "source": [
    "Ser at vi får samme svar for t-observatoren ved å løse oppgaven rett frem og ved å bruke python(Scripy) sin innebygde metode. Vi forkaster null hypotesen fordi 3.78> 1.796.\n",
    "\n",
    "\n"
   ]
  },
  {
   "cell_type": "code",
   "execution_count": null,
   "metadata": {},
   "outputs": [],
   "source": []
  }
 ],
 "metadata": {
  "kernelspec": {
   "display_name": "Python 3",
   "language": "python",
   "name": "python3"
  },
  "language_info": {
   "codemirror_mode": {
    "name": "ipython",
    "version": 3
   },
   "file_extension": ".py",
   "mimetype": "text/x-python",
   "name": "python",
   "nbconvert_exporter": "python",
   "pygments_lexer": "ipython3",
   "version": "3.6.5"
  }
 },
 "nbformat": 4,
 "nbformat_minor": 2
}
