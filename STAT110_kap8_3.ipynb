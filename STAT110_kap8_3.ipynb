{
 "cells": [
  {
   "cell_type": "markdown",
   "metadata": {},
   "source": [
    "# STAT110 kapittel 8.3\n",
    "### Eksamen høst 2013\n",
    "### Oppgave 1\n",
    "\n",
    "Et bilutleiefirma ønsker å undersøke kundebehandlingstiden ved  utleie av bestilte leiebiler og hvordan denne eventuelt varierer med pågang av kunder ved utleiekontoret. \n",
    "\n",
    "I et eksperiment ble 12 kundebehandlere som sitter ved skranken ved forskjellige men identisk organiserte utleiekontorer, fulgt. Deres kundebehandlingstid under normale forhold ble målt som et gjennomsnitt ved behandlingen av flere kunder. Resultatene av målingene var (tid i minutter):\n",
    "\n",
    "\n",
    "$x_i:$ 5.4, 5.1, 4.3, 2.9, 4.4, 5.8, 4.3, 4.8, 5.1, 3.8, 4.6, 4.7\n",
    "\n",
    "Det oppgis at \n",
    "$$\n",
    "\\sum_{i=1}^{12}(x_i-\\bar{x})^2 = 6.38.\n",
    "$$\n",
    "\n",
    "a) La $\\mu_1$ være forventet kundebehandlingstid. Finn et 90\\% konfidensintervall for $\\mu_1$. Omtrent hvor mange målinger måtte vært tatt for å halvere lengden på konfidensintervallet?\n",
    "\n",
    "### Løsning\n",
    "Vi har $n=12$ uavhengige observasjoner, hvor $\\sigma$ er ukjent. Bruker derfor t-fordeling.\n",
    "\n",
    "90\\% konfidensintervall: $(\\bar{x}-t_{0.05}s/\\sqrt{n},\n",
    "   \\bar{x}+t_{0.05}s/\\sqrt{n})$ som gir (4.21, 4.99).\n",
    "\n",
    "\n",
    "\n",
    "Halvering omtrent ved  $4 \\cdot 12 = 48$\n",
    "p.g.a. $\\sqrt{n}$-avhengighet. (har neglisjert $n$-avhengighet i\n",
    "$t_{0.05}$ og $s$; noe mer nøyaktig resonnement gir $n \\approx 42$).\n",
    "\n"
   ]
  },
  {
   "cell_type": "code",
   "execution_count": 1,
   "metadata": {},
   "outputs": [
    {
     "name": "stdout",
     "output_type": "stream",
     "text": [
      "Konfidensintervall: [4.21 4.99]\n",
      "Lengde på konfidensintervall: 0.78\n"
     ]
    }
   ],
   "source": [
    "import numpy as np\n",
    "from scipy import stats\n",
    "\n",
    "def confidence_interval(x, confidence):\n",
    "    mean_x=np.mean(x)       #gjennomsnittet \n",
    "    se= stats.sem(x)        #standard error\n",
    "    df= len(x)-1            #antall frihetsgrader \n",
    "    t_interval= stats.t.interval(confidence, df, mean_x, se)\n",
    "    return t_interval\n",
    "\n",
    "x=[5.4,5.1,4.3,2.9,4.4,5.8,4.3,4.8,5.1,3.8,4.6,4.7] \n",
    "\n",
    "interval=np.round(confidence_interval(x, 0.90),2)\n",
    "print(\"Konfidensintervall: {0}\".format(interval))\n",
    "\n",
    "length= np.round(interval[1]-interval[0],2)\n",
    "print(\"Lengde på konfidensintervall: {0}\".format(length))\n",
    "\n"
   ]
  },
  {
   "cell_type": "markdown",
   "metadata": {},
   "source": [
    "Finner at lengden på konfidensintervallet er 0.78. For å halvere lengden på konfidensintervallet øker vi antall målinger. For å gjøre det enkelt legges 12 målinger til for hver gang. I koden er dette utført ved å legge sammen to identiske lister som inneholder målingene x slik ($x+x$). "
   ]
  },
  {
   "cell_type": "code",
   "execution_count": 3,
   "metadata": {},
   "outputs": [
    {
     "name": "stdout",
     "output_type": "stream",
     "text": [
      "24 målinger: 0.52\n",
      "36 målinger: 0.42\n",
      "48 målinger: 0.36\n"
     ]
    }
   ],
   "source": [
    "\n",
    "interval2=np.array(np.round(confidence_interval(x+x, 0.90),2))    \n",
    "len2=np.round((interval2[1]-interval2[0]),2)\n",
    "print(\"24 målinger: {0}\".format(len2))  \n",
    "\n",
    "interval3=np.array(np.round(confidence_interval(x+x+x, 0.90),2))   \n",
    "len3=np.round((interval3[1]-interval3[0]),2)\n",
    "print(\"36 målinger: {0}\".format(len3)) \n",
    "\n",
    "interval4=np.array(np.round(confidence_interval(x+x+x+x, 0.90),2))    \n",
    "len4=np.round((interval4[1]-interval4[0]),2)\n",
    "print(\"48 målinger: {0}\".format(len4)) \n",
    "\n",
    "\n"
   ]
  },
  {
   "cell_type": "markdown",
   "metadata": {},
   "source": [
    "Finner halvering omtrent ved $4*12$ målinger, som er det samme som 48 målinger. "
   ]
  },
  {
   "cell_type": "code",
   "execution_count": null,
   "metadata": {},
   "outputs": [],
   "source": []
  }
 ],
 "metadata": {
  "kernelspec": {
   "display_name": "Python 3",
   "language": "python",
   "name": "python3"
  },
  "language_info": {
   "codemirror_mode": {
    "name": "ipython",
    "version": 3
   },
   "file_extension": ".py",
   "mimetype": "text/x-python",
   "name": "python",
   "nbconvert_exporter": "python",
   "pygments_lexer": "ipython3",
   "version": "3.6.5"
  }
 },
 "nbformat": 4,
 "nbformat_minor": 4
}
