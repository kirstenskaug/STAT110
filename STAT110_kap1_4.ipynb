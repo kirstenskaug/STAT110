{
 "cells": [
  {
   "cell_type": "markdown",
   "metadata": {},
   "source": [
    "# STAT110 Kapittel 1.4\n",
    "### Eksempel 1.4 fra boken s. 34\n",
    "\n",
    "\n",
    "Nettsiden www.fueleconomy.gov inneholder informasjon om bruken av drivstoff for ulike kjøretøy. Tabellen 1.3 fra eksempelet har $n=11$ målinger $(x)$ av drivstoff effektivitet for Ford Focus 2009 modellen, sendt inn av brukere. Drivstoff effektivitet er målt i mpg, og det oppgis i oppgaven at nettsiden har raportert en generell vurdering på 27-24 mpg på bykjøring og 33 mpg for landeveiskjøring. Her spiller avrunding i svarene en stor rolle for unngå resultater som er lik null. Målingene i mpg er gitt som:\n",
    "\n",
    "$$x=27.3,27.9,32.9,35.2,44.9,39.9,30.0,29.7,28.5,32.0,37.6$$\n",
    "\n",
    "Bruker python til å regne ut attributtene i tabellen 1.3: $\\sum{x_i}$, $\\sum{(x_i -\\bar{x})}$, $\\sum{(x_i -\\bar{x})^2}$.\n",
    "\n",
    "Til slutt regner vi ut $S^2=\\frac{Sxx}{n-1}$\n",
    "\n"
   ]
  },
  {
   "cell_type": "code",
   "execution_count": 18,
   "metadata": {},
   "outputs": [
    {
     "name": "stdout",
     "output_type": "stream",
     "text": [
      "Sum of x: 365.9\n",
      "Diff: [-5.96, -5.36, -0.36, 1.94, 11.64, 6.64, -3.26, -3.56, -4.76, -1.26, 4.34]\n",
      "Sum of diff: 0.04\n",
      "Diff squared: [35.52, 28.73, 0.13, 3.76, 135.49, 44.09, 10.63, 12.67, 22.66, 1.59, 18.84]\n",
      "Sxx: 314.11\n",
      "Varians (S2): 31.411\n"
     ]
    }
   ],
   "source": [
    "import numpy as np\n",
    "from scipy import stats\n",
    "\n",
    "diff=[]\n",
    "diff2=[]\n",
    "x=[27.3,27.9,32.9,35.2,44.9,39.9,30.0,29.7,28.5,32.0,37.6]\n",
    "n=len(x)\n",
    "\n",
    "sum_x= np.round(sum(x),2)     #Bruker np.round for å runne av til 2 desimaler\n",
    "\n",
    "mean_x=np.round(np.mean(x),2)    \n",
    "\n",
    "for item in x:\n",
    "    diff.append(np.round(item-mean_x,2))    #Legger differansen mellom xi og mean til i liste  \n",
    "\n",
    "sum_diff=np.round(sum(diff),2)  \n",
    "\n",
    "for item in diff:\n",
    "    diff2.append(np.round(item**2,2))   \n",
    "\n",
    "    \n",
    "Sxx=sum(diff2)\n",
    "S2=Sxx/(n-1)\n",
    "\n",
    "#print nicely \n",
    "print((\"Sum of x: {0}\".format(sum_x)), \"Diff: {0}\".format(diff), \"Sum of diff: {0}\".format(sum_diff), \n",
    "      \"Diff squared: {0}\".format(diff2),\"Sxx: {0}\".format(Sxx),\"Varians (S2): {0}\".format(S2), sep='\\n')\n"
   ]
  },
  {
   "cell_type": "code",
   "execution_count": 17,
   "metadata": {
    "scrolled": true
   },
   "outputs": [
    {
     "name": "stdout",
     "output_type": "stream",
     "text": [
      "Varians (innebygget): 31.41\n"
     ]
    }
   ],
   "source": [
    "#her bruker vi den innebygde metoden til numpy for å finne standardavvik \n",
    "\n",
    "# Pythons innebygde variansfunksjon\n",
    "varians=round(np.var(x,ddof=1),2)                   # Trekker fra 1 d.f.: ddof=1  \n",
    "print(\"Varians (innebygget): {0}\".format(varians)) "
   ]
  },
  {
   "cell_type": "code",
   "execution_count": null,
   "metadata": {},
   "outputs": [],
   "source": [
    "Ser at dette gir samme svar, men legg merke til at vi manuelt må trekke fra en frihetsgrad (ddof=1)"
   ]
  }
 ],
 "metadata": {
  "kernelspec": {
   "display_name": "Python 3",
   "language": "python",
   "name": "python3"
  },
  "language_info": {
   "codemirror_mode": {
    "name": "ipython",
    "version": 3
   },
   "file_extension": ".py",
   "mimetype": "text/x-python",
   "name": "python",
   "nbconvert_exporter": "python",
   "pygments_lexer": "ipython3",
   "version": "3.6.5"
  }
 },
 "nbformat": 4,
 "nbformat_minor": 2
}
